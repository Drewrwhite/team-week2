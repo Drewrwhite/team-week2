{
 "cells": [
  {
   "cell_type": "code",
   "execution_count": null,
   "metadata": {},
   "outputs": [],
   "source": [
    "import os\n",
    "import sys\n",
    "import pandas as pd\n",
    "import logging\n",
    "from typing import List\n",
    "from google.cloud import bigquery \n",
    "from google.oauth2 import service_account\n",
    "\n",
    "key_path = \"~/.creds/salex-sa.json\"\n",
    "credentials = service_account.Credentials.from_service_account_file(\n",
    "    key_path, scopes=[\"https://www.googleapis.com/auth/cloud-platform\"],\n",
    ")\n",
    "\n",
    "DATA_DIR = \"./data\"\n",
    "PROJECT_NAME = \"team-week2\"\n",
    "\n",
    "# **** TABLE SCHEMAS ****\n",
    "TABLE_METADATA = {\n",
    "   ## 'Raw' Data (just renaming columns)\n",
    "   # <dataset_name>:{\n",
    "   #    'table_name': [<name(s) of table(s) in dataset>]\n",
    "   #    'schema':[<schema(s) for table(s) in dataset>]\n",
    "   # }\n",
    "   'chicago': {\n",
    "       'table_name': ['chi_2018', 'chi_2019', 'chi_2020', 'chi_2021', 'chi_2022'],\n",
    "       'schema': [\n",
    "           bigquery.SchemaField('crime_id', 'INTEGER', mode='REQUIRED'),\n",
    "           bigquery.SchemaField('case_number', 'STRING', mode='REQUIRED'),\n",
    "           bigquery.SchemaField('date_time', 'DATETIME', mode='NULLABLE'),\n",
    "           bigquery.SchemaField('block', 'STRING', mode='NULLABLE'),\n",
    "           bigquery.SchemaField('IUCR_code', 'STRING', mode='NULLABLE'),\n",
    "           bigquery.SchemaField('primary_IUCR', 'STRING', mode='NULLABLE'),\n",
    "           bigquery.SchemaField('secondary_IUCR', 'STRING', mode='NULLABLE'),\n",
    "           bigquery.SchemaField('location_description', 'STRING', mode='NULLABLE'),\n",
    "           bigquery.SchemaField('arrest', 'BOOL', mode='NULLABLE'),\n",
    "           bigquery.SchemaField('domestic', 'BOOL', mode='NULLABLE'),\n",
    "           bigquery.SchemaField('beat', 'INTEGER', mode='NULLABLE'),\n",
    "           bigquery.SchemaField('district', 'INTEGER', mode='NULLABLE'),\n",
    "           bigquery.SchemaField('ward', 'INTEGER', mode='NULLABLE'),\n",
    "           bigquery.SchemaField('community_area', 'INTEGER', mode='NULLABLE'),\n",
    "           bigquery.SchemaField('FBI_code', 'STRING', mode='NULLABLE'),\n",
    "           bigquery.SchemaField('x_coordinate', 'FLOAT', mode='NULLABLE'),\n",
    "           bigquery.SchemaField('y_coordinate', 'FLOAT', mode='NULLABLE'),\n",
    "           bigquery.SchemaField('year', 'DATE', mode='NULLABLE'),\n",
    "           bigquery.SchemaField('updated_on', 'DATETIME', mode='NULLABLE'),\n",
    "           bigquery.SchemaField('lat', 'FLOAT', mode='NULLABLE'),\n",
    "           bigquery.SchemaField('lon', 'FLOAT', mode='NULLABLE'), \n",
    "           bigquery.SchemaField('location', 'STRING', mode='NULLABLE')           \n",
    "       ]\n",
    "   }, 'denver': {\n",
    "      'table_name': ['den_crimes','offense_codes'],\n",
    "      'schema': [\n",
    "           [\n",
    "            bigquery.SchemaField('incident_id', 'INTEGER', mode='REQUIRED'),\n",
    "            bigquery.SchemaField('offense_id', 'INTEGER', mode='REQUIRED'),\n",
    "            bigquery.SchemaField('offense_code', 'INTEGER', mode='REQUIRED'),\n",
    "            bigquery.SchemaField('offense_code_ext', 'INTEGER', mode='REQUIRED'),\n",
    "            bigquery.SchemaField('offense_type_id', 'STRING', mode='REQUIRED'),\n",
    "            bigquery.SchemaField('offense_cat_id', 'STRING', mode='REQUIRED'),\n",
    "            bigquery.SchemaField('first_occurrence', 'DATETIME', mode='REQUIRED'),\n",
    "            bigquery.SchemaField('last_occurrence', 'DATETIME', mode='REQUIRED'),\n",
    "            bigquery.SchemaField('reported_date', 'DATETIME', mode='REQUIRED'),\n",
    "            bigquery.SchemaField('address', 'STRING', mode='REQUIRED'),\n",
    "            bigquery.SchemaField('geo_x', 'FLOAT', mode='REQUIRED'),\n",
    "            bigquery.SchemaField('geo_y', 'FLOAT', mode='REQUIRED'),\n",
    "            bigquery.SchemaField('geo_lon', 'FLOAT', mode='REQUIRED'),\n",
    "            bigquery.SchemaField('geo_lat', 'FLOAT', mode='REQUIRED'),\n",
    "            bigquery.SchemaField('district_id', 'INTEGER', mode='REQUIRED'),\n",
    "            bigquery.SchemaField('precinct_id', 'INTEGER', mode='REQUIRED'),\n",
    "            bigquery.SchemaField('neighborhood_id', 'STRING', mode='REQUIRED'),\n",
    "            bigquery.SchemaField('is_crime', 'BOOL', mode='REQUIRED'), \n",
    "            bigquery.SchemaField('is_traffic', 'BOOL', mode='REQUIRED'), \n",
    "            bigquery.SchemaField('victim_count', 'INTEGER', mode='REQUIRED')\n",
    "           ],[\n",
    "            bigquery.SchemaField('object_id', 'INTEGER', mode='REQUIRED'),\n",
    "            bigquery.SchemaField('offense_code', 'INTEGER', mode='REQUIRED'),\n",
    "            bigquery.SchemaField('offense_code_ext', 'INTEGER', mode='REQUIRED'),\n",
    "            bigquery.SchemaField('offense_type_id', 'INTEGER', mode='REQUIRED'),\n",
    "            bigquery.SchemaField('offense_type_name', 'INTEGER', mode='REQUIRED'),\n",
    "            bigquery.SchemaField('offense_category_id', 'INTEGER', mode='REQUIRED'),\n",
    "            bigquery.SchemaField('offense_category_name', '', mode='REQUIRED'),\n",
    "            bigquery.SchemaField('is_crime', '', mode='REQUIRED'),\n",
    "            bigquery.SchemaField('is_traffic', '', mode='REQUIRED'),\n",
    "\n",
    "          ] \n",
    "      ]   \n",
    "   }\n",
    "}\n",
    "\n",
    "# **** BIGQUERY CLIENT ****\n",
    "client = bigquery.Client()\n",
    "\n",
    "\n"
   ]
  },
  {
   "cell_type": "code",
   "execution_count": 53,
   "metadata": {},
   "outputs": [
    {
     "data": {
      "text/plain": [
       "399572"
      ]
     },
     "execution_count": 53,
     "metadata": {},
     "output_type": "execute_result"
    }
   ],
   "source": [
    "len(den_crimes)"
   ]
  },
  {
   "cell_type": "code",
   "execution_count": 44,
   "metadata": {},
   "outputs": [
    {
     "ename": "UnicodeDecodeError",
     "evalue": "'utf-8' codec can't decode byte 0xa0 in position 78792: invalid start byte",
     "output_type": "error",
     "traceback": [
      "\u001b[0;31m---------------------------------------------------------------------------\u001b[0m",
      "\u001b[0;31mUnicodeDecodeError\u001b[0m                        Traceback (most recent call last)",
      "Cell \u001b[0;32mIn [44], line 1\u001b[0m\n\u001b[0;32m----> 1\u001b[0m den_crimes \u001b[39m=\u001b[39m pd\u001b[39m.\u001b[39mread_csv(\u001b[39m\"\u001b[39m\u001b[39m../data/denver/crime.csv\u001b[39m\u001b[39m\"\u001b[39m)\n",
      "File \u001b[0;32m/usr/lib/python3/dist-packages/pandas/util/_decorators.py:311\u001b[0m, in \u001b[0;36mdeprecate_nonkeyword_arguments.<locals>.decorate.<locals>.wrapper\u001b[0;34m(*args, **kwargs)\u001b[0m\n\u001b[1;32m    305\u001b[0m \u001b[39mif\u001b[39;00m \u001b[39mlen\u001b[39m(args) \u001b[39m>\u001b[39m num_allow_args:\n\u001b[1;32m    306\u001b[0m     warnings\u001b[39m.\u001b[39mwarn(\n\u001b[1;32m    307\u001b[0m         msg\u001b[39m.\u001b[39mformat(arguments\u001b[39m=\u001b[39marguments),\n\u001b[1;32m    308\u001b[0m         \u001b[39mFutureWarning\u001b[39;00m,\n\u001b[1;32m    309\u001b[0m         stacklevel\u001b[39m=\u001b[39mstacklevel,\n\u001b[1;32m    310\u001b[0m     )\n\u001b[0;32m--> 311\u001b[0m \u001b[39mreturn\u001b[39;00m func(\u001b[39m*\u001b[39;49margs, \u001b[39m*\u001b[39;49m\u001b[39m*\u001b[39;49mkwargs)\n",
      "File \u001b[0;32m/usr/lib/python3/dist-packages/pandas/io/parsers/readers.py:586\u001b[0m, in \u001b[0;36mread_csv\u001b[0;34m(filepath_or_buffer, sep, delimiter, header, names, index_col, usecols, squeeze, prefix, mangle_dupe_cols, dtype, engine, converters, true_values, false_values, skipinitialspace, skiprows, skipfooter, nrows, na_values, keep_default_na, na_filter, verbose, skip_blank_lines, parse_dates, infer_datetime_format, keep_date_col, date_parser, dayfirst, cache_dates, iterator, chunksize, compression, thousands, decimal, lineterminator, quotechar, quoting, doublequote, escapechar, comment, encoding, encoding_errors, dialect, error_bad_lines, warn_bad_lines, on_bad_lines, delim_whitespace, low_memory, memory_map, float_precision, storage_options)\u001b[0m\n\u001b[1;32m    571\u001b[0m kwds_defaults \u001b[39m=\u001b[39m _refine_defaults_read(\n\u001b[1;32m    572\u001b[0m     dialect,\n\u001b[1;32m    573\u001b[0m     delimiter,\n\u001b[0;32m   (...)\u001b[0m\n\u001b[1;32m    582\u001b[0m     defaults\u001b[39m=\u001b[39m{\u001b[39m\"\u001b[39m\u001b[39mdelimiter\u001b[39m\u001b[39m\"\u001b[39m: \u001b[39m\"\u001b[39m\u001b[39m,\u001b[39m\u001b[39m\"\u001b[39m},\n\u001b[1;32m    583\u001b[0m )\n\u001b[1;32m    584\u001b[0m kwds\u001b[39m.\u001b[39mupdate(kwds_defaults)\n\u001b[0;32m--> 586\u001b[0m \u001b[39mreturn\u001b[39;00m _read(filepath_or_buffer, kwds)\n",
      "File \u001b[0;32m/usr/lib/python3/dist-packages/pandas/io/parsers/readers.py:488\u001b[0m, in \u001b[0;36m_read\u001b[0;34m(filepath_or_buffer, kwds)\u001b[0m\n\u001b[1;32m    485\u001b[0m     \u001b[39mreturn\u001b[39;00m parser\n\u001b[1;32m    487\u001b[0m \u001b[39mwith\u001b[39;00m parser:\n\u001b[0;32m--> 488\u001b[0m     \u001b[39mreturn\u001b[39;00m parser\u001b[39m.\u001b[39;49mread(nrows)\n",
      "File \u001b[0;32m/usr/lib/python3/dist-packages/pandas/io/parsers/readers.py:1047\u001b[0m, in \u001b[0;36mTextFileReader.read\u001b[0;34m(self, nrows)\u001b[0m\n\u001b[1;32m   1045\u001b[0m \u001b[39mdef\u001b[39;00m \u001b[39mread\u001b[39m(\u001b[39mself\u001b[39m, nrows\u001b[39m=\u001b[39m\u001b[39mNone\u001b[39;00m):\n\u001b[1;32m   1046\u001b[0m     nrows \u001b[39m=\u001b[39m validate_integer(\u001b[39m\"\u001b[39m\u001b[39mnrows\u001b[39m\u001b[39m\"\u001b[39m, nrows)\n\u001b[0;32m-> 1047\u001b[0m     index, columns, col_dict \u001b[39m=\u001b[39m \u001b[39mself\u001b[39;49m\u001b[39m.\u001b[39;49m_engine\u001b[39m.\u001b[39;49mread(nrows)\n\u001b[1;32m   1049\u001b[0m     \u001b[39mif\u001b[39;00m index \u001b[39mis\u001b[39;00m \u001b[39mNone\u001b[39;00m:\n\u001b[1;32m   1050\u001b[0m         \u001b[39mif\u001b[39;00m col_dict:\n\u001b[1;32m   1051\u001b[0m             \u001b[39m# Any column is actually fine:\u001b[39;00m\n",
      "File \u001b[0;32m/usr/lib/python3/dist-packages/pandas/io/parsers/c_parser_wrapper.py:224\u001b[0m, in \u001b[0;36mCParserWrapper.read\u001b[0;34m(self, nrows)\u001b[0m\n\u001b[1;32m    222\u001b[0m \u001b[39mtry\u001b[39;00m:\n\u001b[1;32m    223\u001b[0m     \u001b[39mif\u001b[39;00m \u001b[39mself\u001b[39m\u001b[39m.\u001b[39mlow_memory:\n\u001b[0;32m--> 224\u001b[0m         chunks \u001b[39m=\u001b[39m \u001b[39mself\u001b[39;49m\u001b[39m.\u001b[39;49m_reader\u001b[39m.\u001b[39;49mread_low_memory(nrows)\n\u001b[1;32m    225\u001b[0m         \u001b[39m# destructive to chunks\u001b[39;00m\n\u001b[1;32m    226\u001b[0m         data \u001b[39m=\u001b[39m _concatenate_chunks(chunks)\n",
      "File \u001b[0;32m/usr/lib/python3/dist-packages/pandas/_libs/parsers.pyx:801\u001b[0m, in \u001b[0;36mpandas._libs.parsers.TextReader.read_low_memory\u001b[0;34m()\u001b[0m\n",
      "File \u001b[0;32m/usr/lib/python3/dist-packages/pandas/_libs/parsers.pyx:857\u001b[0m, in \u001b[0;36mpandas._libs.parsers.TextReader._read_rows\u001b[0;34m()\u001b[0m\n",
      "File \u001b[0;32m/usr/lib/python3/dist-packages/pandas/_libs/parsers.pyx:843\u001b[0m, in \u001b[0;36mpandas._libs.parsers.TextReader._tokenize_rows\u001b[0;34m()\u001b[0m\n",
      "File \u001b[0;32m/usr/lib/python3/dist-packages/pandas/_libs/parsers.pyx:1917\u001b[0m, in \u001b[0;36mpandas._libs.parsers.raise_parser_error\u001b[0;34m()\u001b[0m\n",
      "\u001b[0;31mUnicodeDecodeError\u001b[0m: 'utf-8' codec can't decode byte 0xa0 in position 78792: invalid start byte"
     ]
    }
   ],
   "source": [
    "den_crimes = pd.read_csv(\"../data/denver/crime.csv\")"
   ]
  },
  {
   "cell_type": "code",
   "execution_count": 43,
   "metadata": {},
   "outputs": [
    {
     "name": "stdout",
     "output_type": "stream",
     "text": [
      "/home/alex/deb-projects/team-week2/alex_work\n"
     ]
    }
   ],
   "source": [
    "%%bash\n",
    "pwd"
   ]
  },
  {
   "cell_type": "code",
   "execution_count": 47,
   "metadata": {},
   "outputs": [],
   "source": [
    "with open(\"../data/denver/crime.csv\", \"r\", encoding=\"windows-1252\") as file:\n",
    "  den_crimes = pd.read_csv(file)"
   ]
  }
 ],
 "metadata": {
  "kernelspec": {
   "display_name": "Python 3",
   "language": "python",
   "name": "python3"
  },
  "language_info": {
   "codemirror_mode": {
    "name": "ipython",
    "version": 3
   },
   "file_extension": ".py",
   "mimetype": "text/x-python",
   "name": "python",
   "nbconvert_exporter": "python",
   "pygments_lexer": "ipython3",
   "version": "3.10.6"
  },
  "orig_nbformat": 4,
  "vscode": {
   "interpreter": {
    "hash": "916dbcbb3f70747c44a77c7bcd40155683ae19c65e1c03b4aa3499c5328201f1"
   }
  }
 },
 "nbformat": 4,
 "nbformat_minor": 2
}
